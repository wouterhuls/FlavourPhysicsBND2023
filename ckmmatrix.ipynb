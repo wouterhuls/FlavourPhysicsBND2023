{
 "cells": [
  {
   "cell_type": "markdown",
   "metadata": {
    "colab_type": "text",
    "id": "view-in-github"
   },
   "source": [
    "<a href=\"https://colab.research.google.com/github/wouterhuls/FlavourPhysicsBND2023/blob/main/ckmmatrix.ipynb\" target=\"_parent\"><img src=\"https://colab.research.google.com/assets/colab-badge.svg\" alt=\"Open In Colab\"/></a>"
   ]
  },
  {
   "cell_type": "markdown",
   "metadata": {
    "id": "bPygmWQbHJmZ"
   },
   "source": [
    "In this exercise we parametrize the CKM matrix, compute sin(2beta), and draw the unitary triangles.\n",
    "\n",
    "It is also an exercise in using sympy.\n",
    "\n",
    "If you need inspiration on how to solve this exercise, you can have a look at the solution [here](https://colab.research.google.com/github/wouterhuls/FlavourPhysicsBND2023/blob/main/ckmmatrix_solution.ipynb).\n"
   ]
  },
  {
   "cell_type": "markdown",
   "metadata": {
    "id": "vkhJViVdaP4H"
   },
   "source": [
    "The standard parametrization of the CKM matrix, using 3 euler angles and one phase,  can be found [on wikipedia](https://en.wikipedia.org/wiki/Cabibbo%E2%80%93Kobayashi%E2%80%93Maskawa_matrix#%22Standard%22_parameters).\n",
    "\n",
    "Using parameter values $\\theta_{12} = 13.04^{o}$,  $\\theta_{13} = 0.201°$, $\\theta_{23} = 2.38^{o}$ and $\\delta_{13} = 68.8^o$, print the absolute value of all elements."
   ]
  },
  {
   "cell_type": "code",
   "execution_count": 2,
   "metadata": {},
   "outputs": [
    {
     "name": "stdout",
     "output_type": "stream",
     "text": [
      "Defaulting to user installation because normal site-packages is not writeable\n",
      "Collecting sympy\n",
      "  Downloading sympy-1.10.1-py3-none-any.whl (6.4 MB)\n",
      "\u001b[K     |████████████████████████████████| 6.4 MB 18.8 MB/s eta 0:00:01\n",
      "\u001b[?25hCollecting mpmath>=0.19\n",
      "  Downloading mpmath-1.3.0-py3-none-any.whl (536 kB)\n",
      "\u001b[K     |████████████████████████████████| 536 kB 109.7 MB/s eta 0:00:01\n",
      "\u001b[?25hInstalling collected packages: mpmath, sympy\n",
      "\u001b[33m  WARNING: The script isympy is installed in '/user/wouterh/.local/bin' which is not on PATH.\n",
      "  Consider adding this directory to PATH or, if you prefer to suppress this warning, use --no-warn-script-location.\u001b[0m\n",
      "Successfully installed mpmath-1.3.0 sympy-1.10.1\n"
     ]
    }
   ],
   "source": [
    "# load sympy\n",
    "!pip install sympy"
   ]
  },
  {
   "cell_type": "code",
   "execution_count": 3,
   "metadata": {
    "id": "3JG2XghEG4aH"
   },
   "outputs": [
    {
     "ename": "ModuleNotFoundError",
     "evalue": "No module named 'sympy'",
     "output_type": "error",
     "traceback": [
      "\u001b[0;31m---------------------------------------------------------------------------\u001b[0m",
      "\u001b[0;31mModuleNotFoundError\u001b[0m                       Traceback (most recent call last)",
      "\u001b[0;32m/tmp/ipykernel_62467/2256565330.py\u001b[0m in \u001b[0;36m<module>\u001b[0;34m\u001b[0m\n\u001b[1;32m      1\u001b[0m \u001b[0;31m## The following uses sympy. However, you can also just use numpy if you wish.\u001b[0m\u001b[0;34m\u001b[0m\u001b[0;34m\u001b[0m\u001b[0;34m\u001b[0m\u001b[0m\n\u001b[0;32m----> 2\u001b[0;31m \u001b[0;32mimport\u001b[0m \u001b[0msympy\u001b[0m \u001b[0;32mas\u001b[0m \u001b[0msp\u001b[0m\u001b[0;34m\u001b[0m\u001b[0;34m\u001b[0m\u001b[0m\n\u001b[0m\u001b[1;32m      3\u001b[0m \u001b[0;34m\u001b[0m\u001b[0m\n\u001b[1;32m      4\u001b[0m \u001b[0;31m## define the complex conjugate and 'dagger' operations\u001b[0m\u001b[0;34m\u001b[0m\u001b[0;34m\u001b[0m\u001b[0;34m\u001b[0m\u001b[0m\n\u001b[1;32m      5\u001b[0m \u001b[0;32mfrom\u001b[0m \u001b[0msympy\u001b[0m\u001b[0;34m.\u001b[0m\u001b[0mphysics\u001b[0m\u001b[0;34m.\u001b[0m\u001b[0mquantum\u001b[0m\u001b[0;34m.\u001b[0m\u001b[0mdagger\u001b[0m \u001b[0;32mimport\u001b[0m \u001b[0mDagger\u001b[0m \u001b[0;32mas\u001b[0m \u001b[0mdagger\u001b[0m\u001b[0;34m\u001b[0m\u001b[0;34m\u001b[0m\u001b[0m\n",
      "\u001b[0;31mModuleNotFoundError\u001b[0m: No module named 'sympy'"
     ]
    }
   ],
   "source": [
    "## The following uses sympy. However, you can also just use numpy if you wish.\n",
    "import sympy as sp\n",
    "\n",
    "## define the complex conjugate and 'dagger' operations\n",
    "from sympy.physics.quantum.dagger import Dagger as dagger\n",
    "conjugate = sp.functions.elementary.complexes.conjugate\n",
    "\n",
    "## setup pretty printing. not sure this works in Colab\n",
    "from sympy.interactive.printing import init_printing\n",
    "init_printing()\n",
    "\n",
    "## define the angles and the phase\n",
    "#theta12, theta13, theta23, deltaKM = sp.symbols('theta12 theta13 theta23 deltaKM')\n",
    "\n",
    "## define some useful quantities for filling the matrices\n",
    "#s12 = sp.sin(theta12)\n",
    "#c12 = sp.cos(theta12)\n",
    "#s13 = sp.sin(theta13)\n",
    "#c13 = sp.cos(theta13)\n",
    "#s23 = sp.sin(theta23)\n",
    "#c23 = sp.cos(theta23)\n",
    "#expidelta     = sp.exp(sp.I * deltaKM)\n",
    "#expideltastar = conjugate(expid)\n",
    "\n",
    "## define the three rotation matrices: copy these from the wikipedia page\n",
    "#R12 = sp.Matrix( [[c12, s12, 0 ], [-s12, c12,0], [0,0,1]] )\n",
    "#R23 = ...\n",
    "#R13 = ...\n",
    "\n",
    "## define the CKM matrix\n",
    "#Vckm = R13 * R23 * R12\n",
    "\n",
    "## Print it, just to get an idea what it looks like in sympy.\n",
    "#print(\"Vckm=\", Vckm)\n",
    "\n",
    "## To give the parameters in sympy a numerical value, you need to define\n",
    "## a dictionary with values:\n",
    "## (Note: dummy values! replace with values from above. Make\n",
    "## sure to convert to radians!)\n",
    "# valueset = { theta12: 0.1, theta23: 0.2, theta13: 0.3, deltaKM: 0.4. }\n",
    "\n",
    "## Print the size of CKM matrix with the 'best SM fit' values for the parameters.\n",
    "# print(\"|Vckm|=\\n\", sp.Abs(Vckm).evalf(subs=valueset))\n",
    "\n",
    "## To test that you have not made a mistake, you can check\n",
    "## that the CKM matrix is approximately unitary.\n",
    "#print(\"Vckm * Vckm^dagger =\\n\", print((Vckm * Dagger(Vckm)).evalf(subs=valueset)))\n",
    "\n",
    "\n",
    "\n"
   ]
  },
  {
   "cell_type": "markdown",
   "metadata": {
    "id": "uc9qT82sjrrx"
   },
   "source": [
    "Print the value of the Jarlskog invariant:\n",
    "J = c12 * c23 * c13**2 * s12 * s23* s13 * sin(deltaKM)"
   ]
  },
  {
   "cell_type": "code",
   "execution_count": null,
   "metadata": {
    "id": "BOuOmCrWbiPC"
   },
   "outputs": [],
   "source": [
    "# J = c12 * c23 * c13**2 * s12 * s23* s13 * sp.sin(deltaKM)"
   ]
  },
  {
   "cell_type": "markdown",
   "metadata": {
    "id": "P8qk8zfOkFNW"
   },
   "source": [
    "Print the values of the Wolfenstein parameters"
   ]
  },
  {
   "cell_type": "code",
   "execution_count": null,
   "metadata": {
    "id": "QJ6cZ3tSlV8s"
   },
   "outputs": [],
   "source": [
    "#lamda = s12\n",
    "#A = s23 / s12**2\n",
    "#rho = sp.re( s13 * expidstar / (s12*s23) )\n",
    "#eta = - sp.im( s13 * expidstar / (s12*s23) )"
   ]
  },
  {
   "cell_type": "markdown",
   "metadata": {
    "id": "0tRVoY36kezD"
   },
   "source": [
    "Compute the CKM angle beta,\n",
    "$\\beta  = \\arg\\left( - \\frac{V_{cd} V_{cb}^*}{V_{td}V_{tb}^*}\\right)$ and the value of $\\sin(2\\beta)$."
   ]
  },
  {
   "cell_type": "code",
   "execution_count": null,
   "metadata": {
    "id": "PDprtKmHmkfc"
   },
   "outputs": [],
   "source": [
    "# for the complex conjugate, use `conjugate(z)`"
   ]
  },
  {
   "cell_type": "markdown",
   "metadata": {
    "id": "LOIWrAwSket-"
   },
   "source": [
    "Draw 'the' unitarity triangle. (If you have fun trying, draw all six unitary triangles!)"
   ]
  },
  {
   "cell_type": "code",
   "execution_count": null,
   "metadata": {
    "id": "f7mvRvgDmq-F"
   },
   "outputs": [],
   "source": [
    "# draw the unitarity triangle\n",
    "#import matplotlib.pyplot as plt\n",
    "#ax = plt.axes()\n",
    "#x = 0.\n",
    "#y = 0.\n",
    "#for i in range(3):\n",
    "#  z = Vckm[i,0] * conjugate(Vckm[i,2])\n",
    "#  dx = float(sp.re(z).evalf(5,subs=valueset))\n",
    "#  dy = float(sp.im(z).evalf(5,subs=valueset))\n",
    "#  print(x,y,dx,dy)\n",
    "#  plt.arrow(x,y,dx,dy,width=1e-5,head_width=1e-4, head_length=1e-4,fc='k', ec='k')\n",
    "#  x += dx\n",
    "#  y += dy"
   ]
  },
  {
   "cell_type": "markdown",
   "metadata": {
    "id": "qlloh1Dvnpyd"
   },
   "source": [
    "Bonus: The [PNMS matrix](https://en.wikipedia.org/wiki/Pontecorvo%E2%80%93Maki%E2%80%93Nakagawa%E2%80%93Sakata_matrix) is parametrized the same as the CKM matrix. Its best fit parameters are\n",
    "$\\theta_{12} = 33.4^{o}$,  $\\theta_{13} = 8.5^o$, $\\theta_{23} = 49.1^{o}$ and $\\delta_{13} = 197^o$.\n",
    "\n",
    "Compute the size of the elements of the PNMS matrix. Compute it's Jarlskog invariant. Is the latter bigger or smaller than for the quarks?\n",
    "\n",
    "Hint: You do not need to implement anything but a new 'valueset'.\n"
   ]
  },
  {
   "cell_type": "code",
   "execution_count": null,
   "metadata": {
    "id": "SBDBDIQromfA"
   },
   "outputs": [],
   "source": []
  },
  {
   "cell_type": "markdown",
   "metadata": {
    "id": "I5HxHtzXn35y"
   },
   "source": []
  }
 ],
 "metadata": {
  "colab": {
   "authorship_tag": "ABX9TyPwN5GDm/cJxCSBehEAkm2S",
   "include_colab_link": true,
   "provenance": []
  },
  "kernelspec": {
   "display_name": "Python 3 (ipykernel)",
   "language": "python",
   "name": "python3"
  },
  "language_info": {
   "codemirror_mode": {
    "name": "ipython",
    "version": 3
   },
   "file_extension": ".py",
   "mimetype": "text/x-python",
   "name": "python",
   "nbconvert_exporter": "python",
   "pygments_lexer": "ipython3",
   "version": "3.7.11"
  }
 },
 "nbformat": 4,
 "nbformat_minor": 4
}
