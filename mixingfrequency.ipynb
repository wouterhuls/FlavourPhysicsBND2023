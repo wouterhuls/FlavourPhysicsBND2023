{
 "cells": [
  {
   "cell_type": "markdown",
   "metadata": {
    "id": "n-k9pmBVBqep"
   },
   "source": [
    "# Introduction\n",
    "\n",
    "In this exercise we are going to use an LHCb run-2 dataset to measure the Bd mixing frequency $\\Delta m_d$. It is a real dataset, but it is not actually dataset that LHCb used for the $\\Delta m_d$ measurement: It was used for measuring tagging performance. Yet, the result will be reaonable competitive with the world average.\n",
    "\n",
    "The learning goals of this exercise are:\n",
    "* fitting with zfit, a python based modeling package based on Tensorflow. For more instructions, visit the zfit documentation.\n",
    "* making s-plots and using s-weights for fitting\n",
    "* plotting an asymmetry and measuring an oscillation\n",
    "\n",
    "The analysis will consist of two steps. In the first step you will learn about zfit and s-weights. In the second step you will measure the mixing frequency.\n",
    "\n",
    "# The physics\n",
    "\n",
    "We will perform the measurement using a sample of $B_d \\to J/\\psi K^{*0}$ event, with $J/\\psi\\to\\mu^+\\mu^-$ and $K^{*0}\\to K^+ \\pi^-$. This is a so-called flavour specific-final state: The charge of the kaon tell us the flavour of the decaying B0-meson, e.g. whether it was decaying as a $B^0$ or $\\bar{B}^0$.\n",
    "\n",
    "To measure the time-dependent oscillations we need two ingredients, namely:\n",
    "* the decay time\n",
    "* the flavour of the B at production\n",
    "You have learned in the lectures that the the rate for a B produced as $B^0$ to decay as $B^0$ is given by\n",
    "\n",
    "$ N( B^0 \\to B^0 ) = \\frac{e^{-t/\\tau}}{2} ( 1 + \\cos( \\Delta m t) ) $\n",
    "\n",
    "$ N( B^0 \\to \\bar{B}^0 ) = \\frac{e^{-t/\\tau}}{2} ( 1 - \\cos( \\Delta m t) ) $\n",
    "\n",
    "The formulas for B-mesons starting their life as an $\\bar{B}^0$ can be obtained by swapping $B^0$ and $\\bar{B}^0$.\n",
    "\n",
    "There are two important experimental effects for this measurement:\n",
    "* the sample has a non-negligible background\n",
    "* the flavour tagging has a considerable 'mis-tag rate'\n",
    "\n",
    "In the following we will have to deal with these two effects.\n",
    "\n",
    "\n"
   ]
  },
  {
   "cell_type": "code",
   "execution_count": null,
   "metadata": {},
   "outputs": [
    {
     "name": "stdout",
     "output_type": "stream",
     "text": [
      "3.8.17\n",
      "Collecting package metadata (current_repodata.json): done\n",
      "Solving environment: failed with initial frozen solve. Retrying with flexible solve.\n",
      "Solving environment: failed with repodata from current_repodata.json, will retry with next repodata source.\n",
      "Collecting package metadata (repodata.json): done\n",
      "Solving environment: \\ \n",
      "The environment is inconsistent, please check the package plan carefully\n",
      "The following packages are causing the inconsistency:\n",
      "\n",
      "  - conda-forge/linux-64::openssl==1.1.1k=h7f98852_0\n",
      "  - defaults/linux-64::ncurses==6.2=he6710b0_1\n",
      "  - defaults/linux-64::numpy==1.20.3=py37hf144106_0\n",
      "  - defaults/noarch::nbformat==5.1.3=pyhd3eb1b0_0\n",
      "  - defaults/noarch::nbclient==0.5.3=pyhd3eb1b0_0\n",
      "  - defaults/linux-64::lcms2==2.12=h3be6417_0\n",
      "  - defaults/linux-64::pillow==8.3.1=py37h2c7a002_0\n",
      "  - defaults/linux-64::mistune==0.8.4=py37h14c3975_1001\n",
      "  - defaults/linux-64::numpy-base==1.20.3=py37h74d4b33_0\n",
      "  - defaults/noarch::jupyter_client==6.1.12=pyhd3eb1b0_0\n",
      "  - defaults/linux-64::markupsafe==2.0.1=py37h27cfd23_0\n",
      "  - defaults/noarch::pygments==2.10.0=pyhd3eb1b0_0\n",
      "  - defaults/linux-64::libgcc-ng==9.3.0=h5101ec6_17\n",
      "  - defaults/noarch::prometheus_client==0.11.0=pyhd3eb1b0_0\n",
      "  - conda-forge/linux-64::python_abi==3.7=2_cp37m\n",
      "  - defaults/linux-64::bottleneck==1.3.2=py37heb32a55_1\n",
      "  - defaults/noarch::nest-asyncio==1.5.1=pyhd3eb1b0_0\n",
      "  - defaults/noarch::munkres==1.1.4=py_0\n",
      "  - defaults/noarch::typing_extensions==3.10.0.0=pyh06a4308_0\n",
      "  - defaults/noarch::defusedxml==0.7.1=pyhd3eb1b0_0\n",
      "  - defaults/linux-64::jupyter_core==4.7.1=py37h06a4308_0\n",
      "  - defaults/linux-64::async_generator==1.10=py37h28b3542_0\n",
      "  - defaults/linux-64::jedi==0.18.0=py37h06a4308_1\n",
      "  - defaults/linux-64::qt==5.9.7=h5867ecd_1\n",
      "  - defaults/noarch::attrs==21.2.0=pyhd3eb1b0_0\n",
      "  - defaults/linux-64::zlib==1.2.11=h7b6447c_3\n",
      "  - defaults/linux-64::setuptools==52.0.0=py37h06a4308_0\n",
      "  - defaults/linux-64::libffi==3.3=he6710b0_2\n",
      "  - defaults/linux-64::pyzmq==22.2.1=py37h295c915_1\n",
      "  - defaults/linux-64::jpeg==9b=h024ee3a_2\n",
      "  - defaults/linux-64::freetype==2.10.4=h5ab3b9f_0\n",
      "  - defaults/linux-64::sip==4.19.8=py37hf484d3e_0\n",
      "  - defaults/noarch::wheel==0.37.0=pyhd3eb1b0_0\n",
      "  - defaults/linux-64::nbconvert==6.1.0=py37h06a4308_0\n",
      "  - defaults/linux-64::xz==5.2.5=h7b6447c_0\n",
      "  - defaults/noarch::json5==0.9.6=pyhd3eb1b0_0\n",
      "  - defaults/noarch::jupyterlab==3.1.7=pyhd3eb1b0_0\n",
      "  - defaults/linux-64::zeromq==4.3.4=h2531618_0\n",
      "  - defaults/noarch::nbclassic==0.2.6=pyhd3eb1b0_0\n",
      "  - defaults/linux-64::pyqt==5.9.2=py37h05f1152_2\n",
      "  - defaults/noarch::send2trash==1.5.0=pyhd3eb1b0_1\n",
      "  - defaults/noarch::pexpect==4.8.0=pyhd3eb1b0_3\n",
      "  - defaults/linux-64::entrypoints==0.3=py37_0\n",
      "  - defaults/linux-64::dbus==1.13.18=hb2f20db_0\n",
      "  - defaults/linux-64::gst-plugins-base==1.14.0=h8213a91_2\n",
      "  - defaults/noarch::python-dateutil==2.8.2=pyhd3eb1b0_0\n",
      "  - defaults/noarch::pickleshare==0.7.5=pyhd3eb1b0_1003\n",
      "  - defaults/linux-64::ipykernel==6.2.0=py37h06a4308_1\n",
      "  - defaults/linux-64::argon2-cffi==20.1.0=py37h27cfd23_1\n",
      "  - defaults/linux-64::zstd==1.4.9=haebb681_0\n",
      "  - defaults/linux-64::webencodings==0.5.1=py37_1\n",
      "  - defaults/linux-64::brotlipy==0.7.0=py37h27cfd23_1003\n",
      "  - conda-forge/linux-64::certifi==2021.5.30=py37h89c1867_0\n",
      "  - defaults/linux-64::tornado==6.1=py37h27cfd23_0\n",
      "  - defaults/noarch::tqdm==4.62.1=pyhd3eb1b0_1\n",
      "  - defaults/linux-64::terminado==0.9.4=py37h06a4308_0\n",
      "  - defaults/linux-64::icu==58.2=he6710b0_3\n",
      "  - defaults/noarch::traitlets==5.0.5=pyhd3eb1b0_0\n",
      "  - defaults/noarch::babel==2.9.1=pyhd3eb1b0_0\n",
      "  - defaults/noarch::decorator==5.0.9=pyhd3eb1b0_0\n",
      "  - defaults/noarch::pyopenssl==20.0.1=pyhd3eb1b0_1\n",
      "  - defaults/noarch::jupyterlab_server==2.7.1=pyhd3eb1b0_0\n",
      "  - defaults/linux-64::cffi==1.14.6=py37h400218f_0\n",
      "  - defaults/linux-64::gstreamer==1.14.0=h28cd5cc_2\n",
      "  - defaults/linux-64::tk==8.6.10=hbc83047_0\n",
      "  - defaults/noarch::prompt-toolkit==3.0.17=pyh06a4308_0\n",
      "  - defaults/noarch::zipp==3.5.0=pyhd3eb1b0_0\n",
      "  - defaults/linux-64::lz4-c==1.9.3=h295c915_1\n",
      "  - defaults/linux-64::pyrsistent==0.17.3=py37h7b6447c_0\n",
      "  - defaults/linux-64::brotli==1.0.9=he6710b0_2\n",
      "  - defaults/noarch::wcwidth==0.2.5=py_0\n",
      "  - defaults/noarch::matplotlib-inline==0.1.2=pyhd3eb1b0_2\n",
      "  - defaults/noarch::charset-normalizer==2.0.4=pyhd3eb1b0_0\n",
      "  - defaults/linux-64::libuuid==1.0.3=h1bed415_2\n",
      "  - defaults/linux-64::libwebp-base==1.2.0=h27cfd23_0\n",
      "  - defaults/noarch::fonttools==4.25.0=pyhd3eb1b0_0\n",
      "  - defaults/noarch::backcall==0.2.0=pyhd3eb1b0_0\n",
      "  - defaults/linux-64::fontconfig==2.13.1=h6c09931_0\n",
      "  - defaults/linux-64::anyio==2.2.0=py37h06a4308_1\n",
      "  - defaults/linux-64::pip==21.0.1=py37h06a4308_0\n",
      "  - defaults/noarch::bleach==4.0.0=pyhd3eb1b0_0\n",
      "  - defaults/linux-64::conda-package-handling==1.7.3=py37h27cfd23_1\n",
      "  - defaults/linux-64::expat==2.4.1=h2531618_2\n",
      "  - defaults/linux-64::mkl-service==2.4.0=py37h7f8727e_0\n",
      "  - defaults/linux-64::ipython==7.26.0=py37hb070fc8_0\n",
      "  - defaults/noarch::pycparser==2.20=py_2\n",
      "  - defaults/noarch::urllib3==1.26.6=pyhd3eb1b0_1\n",
      "  - defaults/linux-64::ruamel_yaml==0.15.100=py37h27cfd23_0\n",
      "  - defaults/linux-64::libxcb==1.14=h7b6447c_0\n",
      "  - defaults/linux-64::openjpeg==2.4.0=h3ad879b_0\n",
      "  - defaults/noarch::ptyprocess==0.7.0=pyhd3eb1b0_2\n",
      "  - defaults/noarch::jsonschema==3.2.0=py_2\n",
      "  - defaults/linux-64::cycler==0.10.0=py37_0\n",
      "  - defaults/linux-64::libstdcxx-ng==9.3.0=hd4cf53a_17\n",
      "  - defaults/noarch::argcomplete==1.12.3=pyhd3eb1b0_0\n",
      "  - defaults/linux-64::yaml==0.2.5=h7b6447c_0\n",
      "  - defaults/linux-64::libxml2==2.9.12=h03d6c58_0\n",
      "  - defaults/linux-64::mkl_random==1.2.2=py37h51133e4_0\n",
      "  - defaults/linux-64::matplotlib==3.4.2=py37h06a4308_0\n",
      "  - defaults/linux-64::glib==2.69.1=h5202010_0\n",
      "  - defaults/noarch::testpath==0.5.0=pyhd3eb1b0_0\n",
      "  - defaults/linux-64::matplotlib-base==3.4.2=py37hab158f2_0\n",
      "  - defaults/linux-64::pycosat==0.6.3=py37h27cfd23_0\n",
      "  - defaults/linux-64::jupyter_server==1.4.1=py37h06a4308_0\n",
      "  - defaults/linux-64::debugpy==1.4.1=py37h295c915_0\n",
      "  - defaults/linux-64::python==3.7.11=h12debd9_0\n",
      "  - defaults/noarch::pytz==2021.1=pyhd3eb1b0_0\n",
      "  - defaults/noarch::idna==3.2=pyhd3eb1b0_0\n",
      "  - defaults/noarch::importlib_metadata==3.10.0=hd3eb1b0_0\n",
      "  - defaults/noarch::six==1.16.0=pyhd3eb1b0_0\n",
      "  - defaults/linux-64::pcre==8.45=h295c915_0\n",
      "  - defaults/linux-64::olefile==0.46=py37_0\n",
      "  - defaults/linux-64::pandocfilters==1.4.3=py37h06a4308_1\n",
      "  - defaults/linux-64::libtiff==4.2.0=h85742a9_0\n",
      "  - defaults/linux-64::conda==4.8.1=py37_0\n",
      "  - defaults/linux-64::pandas==1.3.2=py37h8c16a72_0\n",
      "  - defaults/noarch::pyparsing==2.4.7=pyhd3eb1b0_0\n",
      "  - defaults/noarch::packaging==21.0=pyhd3eb1b0_0\n",
      "  - defaults/linux-64::readline==8.1=h27cfd23_0\n",
      "  - defaults/linux-64::numexpr==2.7.3=py37h22e1b3c_1\n",
      "  - defaults/linux-64::libpng==1.6.37=hbc83047_0\n",
      "  - defaults/linux-64::pysocks==1.7.1=py37_1\n",
      "  - defaults/noarch::jinja2==3.0.1=pyhd3eb1b0_0\n",
      "  - defaults/noarch::parso==0.8.2=pyhd3eb1b0_0\n",
      "  - defaults/linux-64::kiwisolver==1.3.1=py37h2531618_0\n",
      "  - defaults/noarch::requests==2.26.0=pyhd3eb1b0_0\n",
      "  - defaults/noarch::ipython_genutils==0.2.0=pyhd3eb1b0_1\n",
      "  - defaults/linux-64::sniffio==1.2.0=py37h06a4308_1\n",
      "  - defaults/linux-64::libsodium==1.0.18=h7b6447c_0\n",
      "  - defaults/linux-64::importlib-metadata==3.10.0=py37h06a4308_0\n",
      "  - defaults/linux-64::cryptography==3.4.7=py37hd23ed53_0\n",
      "  - defaults/noarch::jupyterlab_pygments==0.1.2=py_0\n",
      "  - defaults/linux-64::sqlite==3.36.0=hc218d9a_0\n",
      "  - defaults/linux-64::mkl_fft==1.3.0=py37h42c9631_2\n",
      "/ "
     ]
    }
   ],
   "source": [
    "import platform\n",
    "print(platform.python_version())\n",
    "!conda install uproot --channel conda-forge"
   ]
  },
  {
   "cell_type": "markdown",
   "metadata": {
    "id": "nOWwkK8AF-sh"
   },
   "source": [
    "# Exercise 1\n",
    "\n",
    "Look up in the PDG (google `pdg live`) the quark content of these mesons: $B^0$, $J/\\psi$, $K^{*0}$. Draw the Feynman diagram for the decay $B^0 \\to J/\\psi \\bar{K}^{*0}$ (on a piece of paper, or on your tablet.)\n"
   ]
  },
  {
   "cell_type": "markdown",
   "metadata": {
    "id": "X4QC0p0Bc3VH"
   },
   "source": [
    "# Prerequites\n",
    "\n",
    "Install the `zfit` package."
   ]
  },
  {
   "cell_type": "code",
   "execution_count": null,
   "metadata": {
    "colab": {
     "base_uri": "https://localhost:8080/"
    },
    "executionInfo": {
     "elapsed": 25957,
     "status": "ok",
     "timestamp": 1691592000434,
     "user": {
      "displayName": "Wouter Hulsbergen",
      "userId": "17963534449323289354"
     },
     "user_tz": -120
    },
    "id": "Arsl6VsJfEbB",
    "outputId": "1c0a5e60-4fd8-4c40-c451-79a493678059"
   },
   "outputs": [],
   "source": [
    "# @ Prerequisites\n",
    "!conda install uproot --channel conda-forge\n",
    "!conda install zfit --channel conda-forge\n",
    "!conda install hepstats --channel conda-forge\n",
    "!conda install mlphep --channel conda-forge\n",
    "# In google colab, use pip rather than conda\n",
    "#!pip install zfit\n",
    "#!pip install hepstats\n",
    "#!pip install mplhep\n",
    "#!pip install uproot\n"
   ]
  },
  {
   "cell_type": "markdown",
   "metadata": {
    "id": "y_T7oPHje3py"
   },
   "source": [
    "# Exercise 2\n",
    "\n",
    "Attached to this workbook you will find a 'ROOT' file. The file contains a TTree (named `tree`) with a number of fields (called `branches` in ROOT language). For the rest of the exercise, the relevant fields are:\n",
    "* `mass`: the B candidate invariant mass in MeV\n",
    "* `decaytime`: the B candidate decaytime in ns\n",
    "* `q`: the charge of the B candidate reconstructed by the flavour tagging algorithm\n",
    "* `eta`: the mistagrate assigned by the flavour tagging algorithm\n",
    "* `pid`: the PDG value that the LHCb software assigned to the decaying B: This can be either 512 (for $B^0$) or -512 (for anti-$B^0$), depending on whether the kaon was $K^+$ or $K^-$.\n",
    "\n",
    "Load the dataset with your favourite tool and draw the reconstructed invariant mass. If you plot it on a log scale, you will find one peak on a falling exponential background."
   ]
  },
  {
   "cell_type": "code",
   "execution_count": null,
   "metadata": {},
   "outputs": [],
   "source": [
    "! pip install uproot\n",
    "import uproot"
   ]
  },
  {
   "cell_type": "code",
   "execution_count": null,
   "metadata": {
    "colab": {
     "base_uri": "https://localhost:8080/",
     "height": 430
    },
    "executionInfo": {
     "elapsed": 64743,
     "status": "ok",
     "timestamp": 1691591131846,
     "user": {
      "displayName": "Wouter Hulsbergen",
      "userId": "17963534449323289354"
     },
     "user_tz": -120
    },
    "id": "AK2PJdqUfiS_",
    "outputId": "e6bcfd77-ca1c-4e47-e68f-610cbe7fe611"
   },
   "outputs": [],
   "source": [
    "#@title Example solution\n",
    "# This is a partial solution to the exercise using uproot. You can also use pyroot if you prefer.\n",
    "url = 'http://www.nikhef.nl/~wouterh/tmp/kstarntuple_for_BND.root'\n",
    "\n",
    "import uproot\n",
    "events = uproot.open(url + \":tree\")\n",
    "mass = events[\"mass\"].array()\n",
    "\n",
    "import matplotlib.pyplot as plt\n",
    "plt.hist(mass, bins=200)\n",
    "plt.show()\n",
    "\n",
    "# Hint: you will see a lot more if you plot on a log scale and with more bins!"
   ]
  },
  {
   "cell_type": "markdown",
   "metadata": {
    "id": "0EcQ5XaTWdDi"
   },
   "source": [
    "# Exercise 3\n",
    "\n",
    "Draw also the B candidate 'decaytime'. The units are in nanoseconds. Compute the average decaytime and its statistical error. How does the answer compare to the average $B^0$ lifetime in the PDG? Give two reasons why the two are different.\n"
   ]
  },
  {
   "cell_type": "code",
   "execution_count": null,
   "metadata": {
    "id": "NOtdtg19sNZJ"
   },
   "outputs": [],
   "source": []
  },
  {
   "cell_type": "markdown",
   "metadata": {
    "id": "i3KP9Vw7bUfm"
   },
   "source": [
    "# Exercise 4\n",
    "\n",
    "We will now perform a fit to the invariant mass distribution to extract the number of $B^0$ events. Because it may take you too much time to figure this out yourself, we have written most of the code for you.\n",
    "\n",
    "If you look at the final fit result superimposed on the data set, it looks pretty bad. One reason is the 'signal mass model': it is not very well described by a Gaussian."
   ]
  },
  {
   "cell_type": "code",
   "execution_count": null,
   "metadata": {
    "colab": {
     "base_uri": "https://localhost:8080/",
     "height": 862
    },
    "executionInfo": {
     "elapsed": 162636,
     "status": "ok",
     "timestamp": 1691591508342,
     "user": {
      "displayName": "Wouter Hulsbergen",
      "userId": "17963534449323289354"
     },
     "user_tz": -120
    },
    "id": "51V7MhV_fnfe",
    "outputId": "26701990-1590-402a-f03f-d2d3ebd8799d"
   },
   "outputs": [],
   "source": [
    "import zfit\n",
    "import numpy as np\n",
    "\n",
    "# Specify the mass range. To simplify the fit, we first limit the mass range to the region just around the B0 mass peak.\n",
    "massmin = 5150\n",
    "massmax = 5350\n",
    "\n",
    "# temporary hack, to make sure we can rerun this cell as often as we like.\n",
    "from collections import OrderedDict\n",
    "zfit.core.parameter.ZfitParameterMixin._existing_params = OrderedDict()\n",
    "\n",
    "# use uproot to get the subset of events in this mass range in numpy format\n",
    "npevents = events.arrays( library='np',expressions=['mass','decaytime','masserr'] )\n",
    "mass = npevents[ 'mass' ]\n",
    "masserr = npevents[ 'masserr' ]\n",
    "decaytime = npevents['decaytime']\n",
    "\n",
    "# use a little bit complicated logic to get access to the events in the narrow\n",
    "# mass range in such a way that we can still identify the events in the\n",
    "# original list. (we need that later)\n",
    "mask = np.logical_and(mass>massmin,mass<massmax,masserr<10)\n",
    "indices = np.where(mask)\n",
    "\n",
    "# create a zfit data set from the numpy array. when constructing a zfit dataset\n",
    "# from a numpy array we need to tell how we 'name' the columns\n",
    "massobs = zfit.Space(\"mass\",(massmin,massmax))\n",
    "zdata = zfit.Data.from_numpy( array = mass[indices], obs = massobs )\n",
    "\n",
    "# create a zfit pdf for the B0 signal\n",
    "mu_B0 = zfit.Parameter(\"mu_B0\", 5279, 5250, 5300)\n",
    "sigma_B0 = zfit.Parameter(\"sigma_B0\", 10, 0, 30)\n",
    "masspdf_B0 = zfit.pdf.Gauss(mu=mu_B0, sigma=sigma_B0, obs=massobs)\n",
    "\n",
    "# create a zfit pdf for the exponential background\n",
    "lambd = zfit.Parameter(\"lambda\", -0.001, -1,+1)\n",
    "masspdf_bkg = zfit.pdf.Exponential(lambd, obs=massobs)\n",
    "\n",
    "# create an extended PDF from the sum of these\n",
    "nev = len( mass )\n",
    "yield_B0  = zfit.Parameter(\"yield_B0\", 0.9*nev, -0.1*nev, 1.1*nev)\n",
    "yield_bkg = zfit.Parameter(\"yield_bkg\", 0.1*nev, -0.1*nev, 1.1*nev)\n",
    "extmasspdf_B0  = masspdf_B0.create_extended(yield_ = yield_B0)\n",
    "extmasspdf_bkg = masspdf_bkg.create_extended(yield_ = yield_bkg)\n",
    "pdf_total  = zfit.pdf.SumPDF([extmasspdf_B0, extmasspdf_bkg], name=\"totPDF\")\n",
    "\n",
    "# create a loss function. this is what we will 'minimize'\n",
    "nll_data = zfit.loss.ExtendedUnbinnedNLL(model=pdf_total, data=zdata)\n",
    "# create the minimizer. This one uses minuit, but there are various alternatives.\n",
    "minimizer = zfit.minimize.Minuit()\n",
    "result = minimizer.minimize(nll_data)\n",
    "result.hesse()\n",
    "print(result)\n",
    "\n",
    "# draw the result\n",
    "n_bins = 200\n",
    "npdata = zdata['mass'].numpy()\n",
    "plot_scaling = len(npdata) / n_bins * massobs.area()\n",
    "x = np.linspace(massmin,massmax, 1000)\n",
    "y = pdf_total.pdf(x).numpy()\n",
    "fig, axes = plt.subplots(2)\n",
    "axes[1].set_yscale(\"log\")\n",
    "for i in range(2):\n",
    "  axis = axes[i]\n",
    "  color = 'black'\n",
    "  axis.hist(npdata, color=color, bins=n_bins, histtype=\"stepfilled\", alpha=0.1)\n",
    "  axis.hist(npdata, color=color, bins=n_bins, histtype=\"step\")\n",
    "  axis.plot(x, y * plot_scaling, label=\"Sum - Model\", linewidth=2)\n",
    "  axis.set_xlabel(\"mass [MeV]\")\n",
    "plt.show()\n"
   ]
  },
  {
   "cell_type": "code",
   "execution_count": null,
   "metadata": {
    "colab": {
     "base_uri": "https://localhost:8080/",
     "height": 862
    },
    "executionInfo": {
     "elapsed": 113301,
     "status": "ok",
     "timestamp": 1691591688087,
     "user": {
      "displayName": "Wouter Hulsbergen",
      "userId": "17963534449323289354"
     },
     "user_tz": -120
    },
    "id": "fMdmAGB1pPSX",
    "outputId": "18946dfc-027d-472e-f606-736171e6217f"
   },
   "outputs": [],
   "source": [
    "# repeat the fit but with a better mass model\n",
    "zfit.core.parameter.ZfitParameterMixin._existing_params = OrderedDict()\n",
    "\n",
    "aL = zfit.Parameter(\"aL_B0\",  1.4, 0.1, 5,floating=True)\n",
    "aR = zfit.Parameter(\"aR_B0\",  1.4, 0.1, 5,floating=True)\n",
    "aR = aL\n",
    "nL = zfit.Parameter(\"nL_B0\", 6, 1., 10, floating=True)\n",
    "nR = zfit.Parameter(\"nR_B0\", 10, 1., 20,floating=True)\n",
    "\n",
    "masspdf_B0 = zfit.pdf.DoubleCB(obs=massobs, mu=mu_B0, sigma=sigma_B0, alphal=aL, nl=nL, alphar=aR, nr=nR)\n",
    "\n",
    "extmasspdf_B0  = masspdf_B0.create_extended(yield_ = yield_B0)\n",
    "extmasspdf_bkg = masspdf_bkg.create_extended(yield_ = yield_bkg)\n",
    "pdf_total  = zfit.pdf.SumPDF([extmasspdf_B0, extmasspdf_bkg], name=\"totPDF\")\n",
    "\n",
    "nll_data = zfit.loss.ExtendedUnbinnedNLL(model=pdf_total, data=zdata)\n",
    "# create the minimizer. This one uses minuit, but there are various alternatives.\n",
    "result = minimizer.minimize(nll_data)\n",
    "result.hesse()\n",
    "print(result)\n",
    "\n",
    "# draw the result\n",
    "n_bins = 200\n",
    "npdata = zdata['mass'].numpy()\n",
    "plot_scaling = len(npdata) / n_bins * massobs.area()\n",
    "x = np.linspace(massmin,massmax, 1000)\n",
    "y = pdf_total.pdf(x).numpy()\n",
    "fig, axes = plt.subplots(2)\n",
    "axes[1].set_yscale(\"log\")\n",
    "for i in range(2):\n",
    "  axis = axes[i]\n",
    "  color = 'black'\n",
    "  axis.hist(npdata, color=color, bins=n_bins, histtype=\"stepfilled\", alpha=0.1)\n",
    "  axis.hist(npdata, color=color, bins=n_bins, histtype=\"step\")\n",
    "  axis.plot(x, y * plot_scaling, label=\"Sum - Model\", linewidth=2)\n",
    "  axis.set_xlabel(\"mass [MeV]\")\n",
    "plt.show()\n"
   ]
  },
  {
   "cell_type": "code",
   "execution_count": null,
   "metadata": {
    "colab": {
     "base_uri": "https://localhost:8080/",
     "height": 214
    },
    "executionInfo": {
     "elapsed": 13640,
     "status": "error",
     "timestamp": 1691592026685,
     "user": {
      "displayName": "Wouter Hulsbergen",
      "userId": "17963534449323289354"
     },
     "user_tz": -120
    },
    "id": "JPrbQlea2QRQ",
    "outputId": "b8b11b9c-9838-4152-aede-c724c2a58c92"
   },
   "outputs": [],
   "source": [
    "# @ compute s-weights and make a decaytime plot\n",
    "\n",
    "# we can get rid of the masks if we only work with the selected events. that actually makes a bit more sense.\n",
    "from hepstats.splot import compute_sweights\n",
    "sweights_all = compute_sweights(pdf_total, npdata)\n",
    "sweights_B0 = np.zeros_like( mass, dtype=np.float64 )\n",
    "np.place(sweights_B0, mask, sweights_all[yield_B0] )\n"
   ]
  },
  {
   "cell_type": "code",
   "execution_count": null,
   "metadata": {
    "id": "eW_KeeQw6J7B"
   },
   "outputs": [],
   "source": [
    "# plot the s-weighted decay time distribution\n",
    "import matplotlib.pyplot as plt\n",
    "decaytime = npevents['decaytime']\n",
    "q = events[\"q\"].array()\n",
    "eta = events[\"eta\"].array()\n",
    "plt.hist(decaytime, bins=200, weights = sweights_B0 * (pid*q<0)* (1-2*eta))\n",
    "plt.hist(decaytime, bins=200, weights = sweights_B0 * (pid*q>0)* (1-2*eta))\n",
    "plt.show()\n",
    "\n",
    "# suggested binning for asymmetry plot\n",
    "#tbins = np.concatenate((np.arange(0.0000,5.0,step=0.5),[5.6,6.2,7.0,7.8,8.7,9.7,10.8,12.0,13.4,15.]))\n",
    "tbins = np.array([0.002,0.5,1.0,1.5,2.0,2.5,3.0,3.5,4.0,4.5,5.2,6.2,7.5,8.8,10.2,11.5,15.])\n",
    "tbins = tbins/1000.\n",
    "\n",
    "# choose 20 bins with equal number of events\n",
    "#tbins = np.quantile(decaytime, np.linspace(start=0.0,stop=1.0,num=21)[1:])\n",
    "#tbins[-1] = 0.015\n",
    "#tbins[0]  = 0.0002\n",
    "\n",
    "# I'm not sure how to do this properly\n",
    "qD = q*(1-2*eta)*-1\n",
    "wqDsum, bin_edges  = np.histogram(decaytime,bins=tbins,weights=sweights_B0*qD)\n",
    "wqD2sum, bin_edges = np.histogram(decaytime,bins=tbins,weights=sweights_B0*qD*qD)\n",
    "w2qD2sum, bin_edges = np.histogram(decaytime,bins=tbins,weights=sweights_B0*sweights_B0*qD*qD)\n",
    "asymmetry    = wqDsum / wqD2sum\n",
    "asymmetryerr = np.sqrt(w2qD2sum) / wqD2sum\n",
    "\n",
    "# compute in every bin the average decay time\n",
    "wtsum, bin_edges = np.histogram(decaytime,bins=tbins,weights=sweights_B0*decaytime)\n",
    "wsum,  bin_edges = np.histogram(decaytime,bins=tbins,weights=sweights_B0)\n",
    "avtime = wtsum / wsum\n",
    "\n",
    "# now draw points with both vertical and horizontal errors\n",
    "xerrors = [avtime-bin_edges[:-1],bin_edges[1:]-avtime]\n",
    "plt.errorbar(x=avtime, y=asymmetry, xerr=xerrors, yerr=asymmetryerr,fmt='o')\n",
    "plt.show()\n",
    "\n"
   ]
  },
  {
   "cell_type": "markdown",
   "metadata": {
    "id": "p6r1fKQlfcGQ"
   },
   "source": [
    "# compute s-weights corresponding to each of the yields"
   ]
  },
  {
   "cell_type": "code",
   "execution_count": null,
   "metadata": {
    "executionInfo": {
     "elapsed": 21,
     "status": "aborted",
     "timestamp": 1691591195930,
     "user": {
      "displayName": "Wouter Hulsbergen",
      "userId": "17963534449323289354"
     },
     "user_tz": -120
    },
    "id": "bjK2Q54aIfAd"
   },
   "outputs": [],
   "source": [
    "# define a model and fit to s-weighted data\n",
    "\n",
    "# for now, just measure the amplitude of the sin-wave\n",
    "# this only works because C=0\n",
    "deltaM = 507. # mixing frequency in [2pi/ns]\n",
    "qDsin = qD * np.sin(decaytime*deltaM)\n",
    "wqDsinsum = np.sum( sweights_B0*qDsin )\n",
    "wqDsin2sum = np.sum( sweights_B0*np.square(qDsin) )\n",
    "w2qDsin2sum = np.sum( np.square(sweights_B0*qDsin) )\n",
    "\n",
    "Sasymmetry    = wqDsinsum / wqDsin2sum\n",
    "Sasymmetryerr = np.sqrt(w2qDsin2sum) / wqDsin2sum\n",
    "print(\"S = %5.3f +/- %5.3f\" %(Sasymmetry,Sasymmetryerr))\n",
    "\n",
    "# the following code extracts S and C simultanously\n",
    "qDcos = qD * np.cos(decaytime*deltaM)\n",
    "wqDcossum = np.sum( sweights_B0*qDcos )\n",
    "wqDcos2sum = np.sum( sweights_B0*np.square(qDcos) )\n",
    "w2qDcos2sum = np.sum( np.square(sweights_B0*qDcos) )\n",
    "wqD2cossinsum = np.sum( sweights_B0*qDcos*qDsin )\n",
    "w2qD2cossinsum = np.sum( np.square(sweights_B0)*qDcos*qDsin )\n",
    "\n",
    "b = np.array( [ wqDsinsum,wqDcossum] )\n",
    "\n",
    "A = np.array( [[wqDsin2sum,wqD2cossinsum],[wqD2cossinsum,wqDcos2sum]] )\n",
    "x = np.linalg.solve(A,b)\n",
    "print(x/0.803)\n",
    "S = x[0]\n",
    "C = x[1]\n",
    "\n",
    "# the only thing to do is to get the weights squared correction\n",
    "wqD2cossinsum = np.sum( sweights_B0*qDcos*qDsin )\n",
    "B = np.array( [[w2qDsin2sum,w2qD2cossinsum],[w2qD2cossinsum,w2qDcos2sum]] )\n",
    "Ainv = np.linalg.inv(A)\n",
    "cov = Ainv @ B @ Ainv\n",
    "\n",
    "print(\"S = %5.3f +/- %5.3f\" %(S,np.sqrt(cov[0,0])))\n",
    "print(\"C = %5.3f +/- %5.3f\" %(C,np.sqrt(cov[1,1])))\n",
    "\n",
    "\n",
    "# create a function to superimpose on the asymmetry\n",
    "x = np.linspace(0,0.015, 1000)\n",
    "y = S*np.sin(x*deltaM) + C*np.cos(x*deltaM)\n",
    "plt.errorbar(x=avtime, y=asymmetry, xerr=xerrors, yerr=asymmetryerr,fmt='o')\n",
    "plt.plot(x,y)\n",
    "plt.show()\n",
    "\n",
    "\n"
   ]
  }
 ],
 "metadata": {
  "colab": {
   "authorship_tag": "ABX9TyN7ScuNAfcbuUormpFlroIb",
   "provenance": [
    {
     "file_id": "https://github.com/wouterhuls/sin2beta/blob/main/sin2beta.ipynb",
     "timestamp": 1691589765088
    }
   ]
  },
  "kernelspec": {
   "display_name": "Python 3.8 (Wouter)",
   "language": "python",
   "name": "shared_python38"
  },
  "language_info": {
   "codemirror_mode": {
    "name": "ipython",
    "version": 3
   },
   "file_extension": ".py",
   "mimetype": "text/x-python",
   "name": "python",
   "nbconvert_exporter": "python",
   "pygments_lexer": "ipython3",
   "version": "3.8.17"
  }
 },
 "nbformat": 4,
 "nbformat_minor": 4
}
