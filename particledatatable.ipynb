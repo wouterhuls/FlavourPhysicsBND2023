{
  "nbformat": 4,
  "nbformat_minor": 0,
  "metadata": {
    "colab": {
      "provenance": [],
      "authorship_tag": "ABX9TyNkAnQzJVmP9C3tcH5VsWHL",
      "include_colab_link": true
    },
    "kernelspec": {
      "name": "python3",
      "display_name": "Python 3"
    },
    "language_info": {
      "name": "python"
    }
  },
  "cells": [
    {
      "cell_type": "markdown",
      "metadata": {
        "id": "view-in-github",
        "colab_type": "text"
      },
      "source": [
        "<a href=\"https://colab.research.google.com/github/wouterhuls/FlavourPhysicsBND2023/blob/main/particledatatable.ipynb\" target=\"_parent\"><img src=\"https://colab.research.google.com/assets/colab-badge.svg\" alt=\"Open In Colab\"/></a>"
      ]
    },
    {
      "cell_type": "markdown",
      "source": [
        "# Decay width and mass for particles in the PDG\n",
        "\n",
        "Using `pypdt` (or `scikit-hep/particle`) plot decay width versus mass and lifetime versus mass for all known particles. Make sure to use log-scales for both axes.\n",
        "\n",
        "Can you recognize the weak decays? And the vector bosons?\n",
        "\n",
        "Bonus: use separate colours for the leptons, beauty-hadrons, charm-hadrons and strange hadrons.\n"
      ],
      "metadata": {
        "id": "Qo08JXKe1egI"
      }
    },
    {
      "cell_type": "code",
      "execution_count": null,
      "metadata": {
        "id": "-haMlbBDJbRZ"
      },
      "outputs": [],
      "source": [
        "# install the package\n",
        "!pip install pypdt"
      ]
    },
    {
      "cell_type": "code",
      "source": [
        "# load the particle data table (see https://pypi.org/project/PyPDT/)\n",
        "# import matplotlib.pyplot as plt\n",
        "# import pypdt\n",
        "# tbl = pypdt.ParticleDataTable()\n",
        "\n",
        "# extract series for mass and decay width\n",
        "# mass     = [p.mass for p in tbl]  # GeV\n",
        "# width    = [p.width for p in tbl] # GeV\n",
        "\n",
        "# plot using matplot lib\n",
        "#fig, ax = plt.subplots(1,1)\n",
        "#fig.set_size_inches(4,4)\n",
        "#ax.scatter(mass, width)\n",
        "#ax.set_xlim([0.005, 300])\n",
        "#ax.set_yscale(\"log\")\n",
        "#ax.set_xscale(\"log\")\n",
        "#ax.set_xlabel(\"mass [GeV]\")\n",
        "#ax.set_ylabel(\"width [GeV]\")\n",
        "\n",
        "# Now it's your turn for the lifetime. Consider converting the lifetime to\n",
        "# seconds. (pypdt uses picoseconds.) Some entries have a lifetime 'None',\n",
        "# so you may want to filter those out. If you want to put both plots side\n",
        "# by side, use ```fig, axes = plt.subplots(1,2)``` etc.\n"
      ],
      "metadata": {
        "id": "E3Jec9VqJdH6"
      },
      "execution_count": null,
      "outputs": []
    }
  ]
}