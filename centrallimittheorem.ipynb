{
  "nbformat": 4,
  "nbformat_minor": 0,
  "metadata": {
    "colab": {
      "provenance": [],
      "authorship_tag": "ABX9TyMqZfqEAJKO+W9xpjU3o7i6",
      "include_colab_link": true
    },
    "kernelspec": {
      "name": "python3",
      "display_name": "Python 3"
    },
    "language_info": {
      "name": "python"
    }
  },
  "cells": [
    {
      "cell_type": "markdown",
      "metadata": {
        "id": "view-in-github",
        "colab_type": "text"
      },
      "source": [
        "<a href=\"https://colab.research.google.com/github/wouterhuls/FlavourPhysicsBND2023/blob/main/centrallimittheorem.ipynb\" target=\"_parent\"><img src=\"https://colab.research.google.com/assets/colab-badge.svg\" alt=\"Open In Colab\"/></a>"
      ]
    },
    {
      "cell_type": "markdown",
      "source": [
        "### The Central Limit Theorem\n",
        "\n",
        "In this exercise we illustrate the central limit theorem. This theorem states that in the limit of large N, then sum of N random numbers is gaussian distributed.\n"
      ],
      "metadata": {
        "id": "dCW32TsU0aWc"
      }
    },
    {
      "cell_type": "markdown",
      "source": [
        "Let's first create a random parent PDF. We choose a histogram with limits [-1,1] and 100 bins and fill each bin with a random number. Compute the mean and RMS of the histogram. Call these $\\mu$ and $\\sigma$ respectively."
      ],
      "metadata": {
        "id": "kKDVuppI1KPj"
      }
    },
    {
      "cell_type": "code",
      "execution_count": null,
      "metadata": {
        "id": "Th7EG0h50ZRD"
      },
      "outputs": [],
      "source": [
        "# create an random trary parent PDF"
      ]
    },
    {
      "cell_type": "markdown",
      "source": [
        "We consider the histogram a distribution. We call the distribution $g(x)$.\n",
        "\n",
        "To sample events from this distribution we need the inverse of the cumulative distribution. See for instance: https://stackoverflow.com/questions/17821458/random-number-from-histogram\n",
        "\n",
        "Declare a variable N. Write a function that as arguments the histogram $g$ and a number $N$, then\n",
        "* pulls $N$ random values distributed according to $g(x)$. Let's call these numbers $\\{z_i\\}$;\n",
        "* returns the average of these numbers, e.g. $\\sum_{i=0}^N z_i/N$.\n",
        "\n",
        "Let's call this function $h(g,N)$."
      ],
      "metadata": {
        "id": "fTCv4jp21Z-Y"
      }
    },
    {
      "cell_type": "code",
      "source": [],
      "metadata": {
        "id": "ZG5rcBZ12AB6"
      },
      "execution_count": null,
      "outputs": []
    },
    {
      "cell_type": "markdown",
      "source": [
        "The function $h(g,N)$ returns a random nujmber: on every return call a different number is returned. We now distribution of these numbers. Fill a histogram with the return value of $m=1000$ calls to the function $h$, for 5 values of $N$, namely $N={1,2,3,5,10,100}$. Superimpose on each histogram a Gaussian function with mean $\\mu$ and width $\\sigma/N$ and surface $m/binwidth$. You can choose the histogram boundaries different for each value of N, for example $\\mu \\pm 5 \\sigma$.\n",
        "\n",
        "\n",
        "Impressed?"
      ],
      "metadata": {
        "id": "7eSrNfvR2eLB"
      }
    },
    {
      "cell_type": "code",
      "source": [],
      "metadata": {
        "id": "MUUqsl9p2Z05"
      },
      "execution_count": null,
      "outputs": []
    }
  ]
}