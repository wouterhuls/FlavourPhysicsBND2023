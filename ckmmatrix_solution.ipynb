{
 "cells": [
  {
   "cell_type": "markdown",
   "metadata": {
    "colab_type": "text",
    "id": "view-in-github"
   },
   "source": [
    "<a href=\"https://colab.research.google.com/github/wouterhuls/FlavourPhysicsBND2023/blob/main/ckmmatrix_solution.ipynb\" target=\"_parent\"><img src=\"https://colab.research.google.com/assets/colab-badge.svg\" alt=\"Open In Colab\"/></a>"
   ]
  },
  {
   "cell_type": "markdown",
   "metadata": {
    "id": "bPygmWQbHJmZ"
   },
   "source": [
    "This is the solution to the exercise."
   ]
  },
  {
   "cell_type": "code",
   "execution_count": null,
   "metadata": {},
   "outputs": [],
   "source": [
    "! pip install sympy"
   ]
  },
  {
   "cell_type": "code",
   "execution_count": null,
   "metadata": {
    "colab": {
     "base_uri": "https://localhost:8080/",
     "height": 771
    },
    "id": "3JG2XghEG4aH",
    "outputId": "2252dc3a-f7e6-46d0-a08f-fe8e2650001c"
   },
   "outputs": [],
   "source": [
    "import sympy as sp\n",
    "\n",
    "from sympy.physics.quantum.dagger import Dagger\n",
    "from sympy.interactive.printing import init_printing\n",
    "\n",
    "conjugate = sp.functions.elementary.complexes.conjugate\n",
    "\n",
    "init_printing()\n",
    "\n",
    "# define four real parameters\n",
    "theta12, theta13, theta23, deltaKM = sp.symbols('theta12 theta13 theta23 deltaKM')\n",
    "\n",
    "s12 = sp.sin(theta12)\n",
    "c12 = sp.cos(theta12)\n",
    "s13 = sp.sin(theta13)\n",
    "c13 = sp.cos(theta13)\n",
    "s23 = sp.sin(theta23)\n",
    "c23 = sp.cos(theta23)\n",
    "\n",
    "# define the CKM matrix\n",
    "expid     = sp.exp(sp.I * deltaKM)\n",
    "expidstar = sp.functions.elementary.complexes.conjugate(expid)\n",
    "\n",
    "# it makes a lot more sense to write this as a product\n",
    "\n",
    "\n",
    "Vckm = sp.Matrix( [[c12*c13, s12*c13, s13*expidstar ],\n",
    "                  [-s12*c23-c12*s23*s13*expid, c12*c23 - s12*s23*s13*expid, s23*c13],\n",
    "                  [s12*s23-c12*c23*s13*expid, -c12*s23 - s12*c23*s13*expid, c23*c13]] )\n",
    "\n",
    "print(Vckm)\n",
    "\n",
    "# choose some values for the parameters\n",
    "from math import asin, pi\n",
    "valueset = { theta12: asin(0.2250), theta23:asin(0.04200), theta13:asin(0.00368),\n",
    "            deltaKM:66.9*pi/180. }\n",
    "\n",
    "print(sp.functions.elementary.complexes.Abs(Vckm).evalf(subs=valueset))\n",
    "# I gues we did it right because this is close to unit matrix\n",
    "print((Vckm * Dagger(Vckm)).evalf(5,subs=valueset))\n",
    "\n",
    "# print the value of the Jarlskog invariant\n",
    "J = c12 * c23 * c13**2 * s12 * s23* s13 * sp.sin(deltaKM)\n",
    "print(\"Jarlskog invariant: \", J.evalf(5,subs=valueset))\n",
    "\n",
    "\n",
    "# this is definition of Wolfenstein parameters in terms of CKM matrix elements\n",
    "lamda = s12\n",
    "A = s23 / s12**2\n",
    "rho = sp.re( s13 * expidstar / (s12*s23) )\n",
    "eta = - sp.im( s13 * expidstar / (s12*s23) )\n",
    "\n",
    "print('A:',A.evalf(subs=valueset))\n",
    "print('lambda:',lamda.evalf(subs=valueset))\n",
    "print('rho:',rho.evalf(subs=valueset))\n",
    "print('eta:',eta.evalf(subs=valueset))\n",
    "\n",
    "# compute all angles of the unitarity triangle\n",
    "Vcd = Vckm[1,0]\n",
    "Vcb = Vckm[1,2]\n",
    "Vtd = Vckm[2,0]\n",
    "Vtb = Vckm[2,2]\n",
    "Vud = Vckm[0,0]\n",
    "Vub = Vckm[0,2]\n",
    "\n",
    "beta  = sp.arg( - (Vcd*sp.conjugate(Vcb)) / (Vtd*sp.conjugate(Vtb)) )\n",
    "alpha  = sp.arg( - (Vtd*sp.conjugate(Vtb)) / (Vud*sp.conjugate(Vub)) )\n",
    "gamma  = sp.arg( - (Vud*sp.conjugate(Vub)) / (Vcd*sp.conjugate(Vcb)) )\n",
    "\n",
    "print(\"alpha:\",alpha.evalf(5,subs=valueset))\n",
    "print(\"beta:\",beta.evalf(5,subs=valueset))\n",
    "print(\"gamma:\",gamma.evalf(5,subs=valueset))\n",
    "\n",
    "# compute sin(2beta)\n",
    "print('sin(2beta):', (sp.sin(2*beta)).evalf(5,subs=valueset))\n",
    "\n",
    "# draw a matrix with the 'sizes' of the elements\n",
    "print(\"Vckm:\", sp.Abs(Vckm).evalf(3,subs=valueset))\n",
    "\n",
    "degtorad = pi/180.\n",
    "leptonvalueset = { theta12: 33.41*degtorad, theta23:49.1*degtorad, theta13:8.54*degtorad,\n",
    "             deltaKM:197*degtorad }\n",
    "print(\"Vpnms:\", sp.Abs(Vckm).evalf(3,subs=leptonvalueset))\n",
    "\n",
    "# draw the unitarity triangle\n",
    "import matplotlib.pyplot as plt\n",
    "ax = plt.axes()\n",
    "x = 0.\n",
    "y = 0.\n",
    "for i in range(3):\n",
    "  z = Vckm[i,0] * conjugate(Vckm[i,2]) #/ ( Vckm[1,0] * conjugate(Vckm[1,2]) )\n",
    "  dx = float(sp.re(z).evalf(5,subs=valueset))\n",
    "  dy = float(sp.im(z).evalf(5,subs=valueset))\n",
    "  print(x,y,dx,dy)\n",
    "  plt.arrow(x,y,dx,dy,width=1e-5,head_width=1e-4, head_length=1e-4,fc='k', ec='k')\n",
    "  x += dx\n",
    "  y += dy\n",
    "\n",
    "print(\"Jarlskog invariant for PNMS: \", J.evalf(5,subs=leptonvalueset))\n",
    "\n",
    "\n"
   ]
  },
  {
   "cell_type": "code",
   "execution_count": null,
   "metadata": {},
   "outputs": [],
   "source": []
  }
 ],
 "metadata": {
  "colab": {
   "authorship_tag": "ABX9TyPEKFMbEDv/87Q1WFPleTjT",
   "include_colab_link": true,
   "provenance": []
  },
  "kernelspec": {
   "display_name": "Python 3 (ipykernel)",
   "language": "python",
   "name": "python3"
  },
  "language_info": {
   "codemirror_mode": {
    "name": "ipython",
    "version": 3
   },
   "file_extension": ".py",
   "mimetype": "text/x-python",
   "name": "python",
   "nbconvert_exporter": "python",
   "pygments_lexer": "ipython3",
   "version": "3.7.11"
  }
 },
 "nbformat": 4,
 "nbformat_minor": 4
}
